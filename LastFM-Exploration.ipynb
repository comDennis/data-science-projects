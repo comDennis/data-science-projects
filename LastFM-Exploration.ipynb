{
 "cells": [
  {
   "cell_type": "code",
   "execution_count": 128,
   "metadata": {},
   "outputs": [],
   "source": [
    "import os\n",
    "import pandas as pd\n",
    "import seaborn as sns\n",
    "import numpy as np\n",
    "import matplotlib.pyplot as plt\n",
    "from sklearn.neighbors import NearestNeighbors\n",
    "from sklearn.preprocessing import OneHotEncoder\n",
    "from scipy.sparse import csr_matrix\n",
    "import pickle"
   ]
  },
  {
   "cell_type": "markdown",
   "metadata": {},
   "source": [
    "## Import data"
   ]
  },
  {
   "cell_type": "code",
   "execution_count": 2,
   "metadata": {},
   "outputs": [
    {
     "name": "stdout",
     "output_type": "stream",
     "text": [
      "                                    user_id gender   age        country  \\\n",
      "0  00000c289a1829a808ac09c00daf10bc3c4e223b      f  22.0        Germany   \n",
      "1  00001411dc427966b17297bf4d69e7e193135d89      f   NaN         Canada   \n",
      "2  00004d2ac9316e22dc007ab2243d6fcb239e707d    NaN   NaN        Germany   \n",
      "3  000063d3fe1cf2ba248b9e3c3f0334845a27a6bf      m  19.0         Mexico   \n",
      "4  00007a47085b9aab8af55f52ec8846ac479ac4fe      m  28.0  United States   \n",
      "\n",
      "         signup  \n",
      "0   Feb 1, 2007  \n",
      "1   Dec 4, 2007  \n",
      "2   Sep 1, 2006  \n",
      "3  Apr 28, 2008  \n",
      "4  Jan 27, 2006  \n",
      "31651\n"
     ]
    }
   ],
   "source": [
    "user_profiles = pd.read_table(\"/home/dennis/Documents/lastfm-prediction/lastfm-dataset-360K/profiles.tsv\", \n",
    "                         header=None, names=['user_id', 'gender', 'age', 'country', 'signup'])\n",
    "print(user_profiles.head(5))\n",
    "print(len(user_profiles[user_profiles['country'] == 'Germany']))"
   ]
  },
  {
   "cell_type": "code",
   "execution_count": 3,
   "metadata": {},
   "outputs": [],
   "source": [
    "user_data = pd.read_table(\"/home/dennis/Documents/lastfm-prediction/lastfm-dataset-360K/plays.tsv\", \n",
    "                         header=None, names=['user_id', 'artist_id', 'artist_name', 'plays'])\n",
    "user_data.drop('artist_id', axis=1, inplace=True)\n",
    "if user_data['artist_name'].isnull().sum() > 0:\n",
    "    user_data = user_data.dropna(axis = 0, subset = ['artist_name'])"
   ]
  },
  {
   "cell_type": "markdown",
   "metadata": {},
   "source": [
    "## Only German Data\n",
    "To reduce the size of the data, only german users will be considered"
   ]
  },
  {
   "cell_type": "code",
   "execution_count": 12,
   "metadata": {},
   "outputs": [
    {
     "name": "stdout",
     "output_type": "stream",
     "text": [
      "                                    user_id gender   age  country  \\\n",
      "0  00000c289a1829a808ac09c00daf10bc3c4e223b      f  22.0  Germany   \n",
      "1  00000c289a1829a808ac09c00daf10bc3c4e223b      f  22.0  Germany   \n",
      "2  00000c289a1829a808ac09c00daf10bc3c4e223b      f  22.0  Germany   \n",
      "3  00000c289a1829a808ac09c00daf10bc3c4e223b      f  22.0  Germany   \n",
      "4  00000c289a1829a808ac09c00daf10bc3c4e223b      f  22.0  Germany   \n",
      "\n",
      "        signup           artist_name   plays  \n",
      "0  Feb 1, 2007       betty blowtorch  2137.0  \n",
      "1  Feb 1, 2007             die Ärzte  1099.0  \n",
      "2  Feb 1, 2007     melissa etheridge   897.0  \n",
      "3  Feb 1, 2007             elvenking   717.0  \n",
      "4  Feb 1, 2007  juliette & the licks   706.0  \n",
      "1555720\n"
     ]
    }
   ],
   "source": [
    "german_profiles = user_profiles[user_profiles['country'] == 'Germany']\n",
    "user_data_ger_profiles = german_profiles.merge(user_data, on=\"user_id\", how='left')\n",
    "print(user_data_ger_profiles.head(5))\n",
    "print(len(user_data_ger_profiles))"
   ]
  },
  {
   "cell_type": "code",
   "execution_count": 14,
   "metadata": {},
   "outputs": [
    {
     "name": "stdout",
     "output_type": "stream",
     "text": [
      "     artist_name  artist_total_plays\n",
      "0            !!!             14362.0\n",
      "1  !action pact!                85.0\n",
      "2          !cube                40.0\n",
      "3       !deladap              1148.0\n",
      "4       !distain               379.0\n"
     ]
    }
   ],
   "source": [
    "artist_plays = user_data_ger_profiles.groupby('artist_name')['plays'].sum().reset_index()\n",
    "artist_plays.columns = ['artist_name', 'artist_total_plays']\n",
    "print(artist_plays.head(5))\n"
   ]
  },
  {
   "cell_type": "markdown",
   "metadata": {},
   "source": [
    "## Reduce number of artists\n",
    "Only the most popular artsists will be considered for the recommender in order to avoid distorted data and to reduce the total size of the set."
   ]
  },
  {
   "cell_type": "code",
   "execution_count": 39,
   "metadata": {},
   "outputs": [
    {
     "name": "stdout",
     "output_type": "stream",
     "text": [
      "0.90     2956.00\n",
      "0.91     3544.00\n",
      "0.92     4271.00\n",
      "0.93     5291.95\n",
      "0.94     6717.10\n",
      "0.95     8752.25\n",
      "0.96    11937.20\n",
      "0.97    17719.80\n",
      "0.98    29364.40\n",
      "0.99    69368.70\n",
      "Name: artist_total_plays, dtype: float64\n",
      "82816\n",
      "645\n"
     ]
    }
   ],
   "source": [
    "print(artist_plays['artist_total_plays'].quantile(np.arange(.9, 1, .01)))\n",
    "threshold = 90000\n",
    "popular_artist_plays = artist_plays[artist_plays['artist_total_plays'] > threshold]\n",
    "\n",
    "print(len(artist_plays))\n",
    "print(len(popular_artist_plays['artist_name']))"
   ]
  },
  {
   "cell_type": "code",
   "execution_count": 42,
   "metadata": {},
   "outputs": [
    {
     "name": "stdout",
     "output_type": "stream",
     "text": [
      "                                       user_id gender   age  country  \\\n",
      "0     00000c289a1829a808ac09c00daf10bc3c4e223b      f  22.0  Germany   \n",
      "4507  aba29c45c5067cba15e191da456a130ed84bcb14      f  26.0  Germany   \n",
      "4479  aadcd8781ea372f3164b726ff10011d4ac73b9cc      m  32.0  Germany   \n",
      "4478  aad472ed3b7ca0df1e4efc7c9b2436f52e221519      m  18.0  Germany   \n",
      "4477  aad0cddae6587e92c7069b22d202adb99d53624e      f  15.0  Germany   \n",
      "\n",
      "            signup artist_name   plays  artist_total_plays  \n",
      "0      Feb 1, 2007   die Ärzte  1099.0           2955844.0  \n",
      "4507   Sep 6, 2007   die Ärzte  2245.0           2955844.0  \n",
      "4479  Nov 27, 2006   die Ärzte   802.0           2955844.0  \n",
      "4478  Nov 24, 2006   die Ärzte   498.0           2955844.0  \n",
      "4477  Oct 25, 2007   die Ärzte   648.0           2955844.0  \n"
     ]
    }
   ],
   "source": [
    "user_with_artist_plays = user_data_ger_profiles.merge(popular_artist_plays, on='artist_name', how='inner')\n",
    "user_with_artist_plays = user_with_artist_plays.sort_values('artist_total_plays', ascending=False)\n",
    "print(user_with_artist_plays.head(5))"
   ]
  },
  {
   "cell_type": "code",
   "execution_count": 89,
   "metadata": {},
   "outputs": [
    {
     "name": "stdout",
     "output_type": "stream",
     "text": [
      "647469\n"
     ]
    }
   ],
   "source": [
    "user_with_artist_plays = user_with_artist_plays.drop_duplicates(['user_id', 'artist_name'])\n",
    "print(len(user_with_artist_plays))\n",
    "wide_artist_data = user_with_artist_plays.pivot(index = 'artist_name', columns = 'user_id', values = 'artist_total_plays').fillna(0)\n",
    "wide_artist_data_sparse = csr_matrix(wide_artist_data.values)\n"
   ]
  },
  {
   "cell_type": "markdown",
   "metadata": {},
   "source": [
    "## Train model"
   ]
  },
  {
   "cell_type": "code",
   "execution_count": 126,
   "metadata": {},
   "outputs": [
    {
     "data": {
      "text/plain": [
       "NearestNeighbors(algorithm='auto', leaf_size=30, metric='cosine',\n",
       "         metric_params=None, n_jobs=1, n_neighbors=5, p=2, radius=1.0)"
      ]
     },
     "execution_count": 126,
     "metadata": {},
     "output_type": "execute_result"
    }
   ],
   "source": [
    "model_knn = NearestNeighbors(metric = 'cosine', algorithm = 'auto')\n",
    "model_knn.fit(wide_artist_data_sparse)\n",
    "#model_knn.fit(wide_artist_data_sparse)\n"
   ]
  },
  {
   "cell_type": "markdown",
   "metadata": {},
   "source": [
    "## Make recommendations"
   ]
  },
  {
   "cell_type": "code",
   "execution_count": 127,
   "metadata": {},
   "outputs": [
    {
     "name": "stdout",
     "output_type": "stream",
     "text": [
      "480\n",
      "[7.68274333e-14 6.35549329e-01 6.76927353e-01 6.78346854e-01\n",
      " 6.79643963e-01 6.81157071e-01]\n",
      "Artist: red hot chili peppers\n",
      "Recommendation 1: die Ärzte - 0.6355493293879839 \n",
      "Recommendation 2: nirvana - 0.6769273529191766 \n",
      "Recommendation 3: system of a down - 0.678346854034508 \n",
      "Recommendation 4: foo fighters - 0.6796439625801229 \n",
      "Recommendation 5: beatsteaks - 0.6811570706879895 \n"
     ]
    }
   ],
   "source": [
    "query_index = np.random.choice(wide_artist_data.shape[0])\n",
    "print(query_index)\n",
    "#print(wide_artist_data.iloc[query_index, :])\n",
    "distances, indices = model_knn.kneighbors(wide_artist_data.iloc[query_index, :].values.reshape(1, -1), n_neighbors = 6)\n",
    "\n",
    "print(distances.flatten())\n",
    "distance_len = len(distances.flatten())\n",
    "for i in range(1, min(distance_len, distance_len + 1)):\n",
    "    if i == 1:\n",
    "        print(\"Artist: %s\" % wide_artist_data.index[query_index])\n",
    "    print(\"Recommendation %s: %s - %s \" % (i, wide_artist_data.index[indices[0][i]], distances.flatten()[i]))"
   ]
  },
  {
   "cell_type": "markdown",
   "metadata": {},
   "source": [
    "## Save model"
   ]
  },
  {
   "cell_type": "code",
   "execution_count": 134,
   "metadata": {},
   "outputs": [],
   "source": [
    "pickle.dump(model_knn, open('nn_recommender.sav', 'wb'))"
   ]
  },
  {
   "cell_type": "code",
   "execution_count": 135,
   "metadata": {},
   "outputs": [
    {
     "data": {
      "text/plain": [
       "['lastfm-dataset-360K',\n",
       " '.ipynb_checkpoints',\n",
       " 'lastfm-dataset-360K.tar.gz',\n",
       " 'LastFM-Exploration.ipynb',\n",
       " 'nn_recommender',\n",
       " 'nn_recommender.sav']"
      ]
     },
     "execution_count": 135,
     "metadata": {},
     "output_type": "execute_result"
    }
   ],
   "source": [
    "os.listdir()"
   ]
  },
  {
   "cell_type": "code",
   "execution_count": 143,
   "metadata": {},
   "outputs": [
    {
     "name": "stdout",
     "output_type": "stream",
     "text": [
      "[7.68274333e-14 6.35549329e-01 6.76927353e-01 6.78346854e-01\n",
      " 6.79643963e-01 6.81157071e-01]\n"
     ]
    }
   ],
   "source": [
    "nn_loaded = pickle.load(open('nn_recommender.sav', 'rb'))\n",
    "distances, indices = nn_loaded.kneighbors(wide_artist_data.iloc[query_index, :].values.reshape(1, -1), n_neighbors = 6)\n",
    "print(distances.flatten())"
   ]
  },
  {
   "cell_type": "markdown",
   "metadata": {},
   "source": [
    "## Save available artist-names"
   ]
  },
  {
   "cell_type": "code",
   "execution_count": 159,
   "metadata": {},
   "outputs": [],
   "source": [
    "artists = user_with_artist_plays['artist_name'].unique()\n",
    "artists = pd.DataFrame(artists)\n",
    "artists.to_csv(\"artists.csv\")"
   ]
  },
  {
   "cell_type": "code",
   "execution_count": 160,
   "metadata": {},
   "outputs": [
    {
     "data": {
      "text/plain": [
       "['k.csv',\n",
       " 'lastfm-dataset-360K',\n",
       " '.ipynb_checkpoints',\n",
       " 'artists.csv',\n",
       " 'lastfm-dataset-360K.tar.gz',\n",
       " 'LastFM-Exploration.ipynb',\n",
       " 'nn_recommender',\n",
       " 'nn_recommender.sav',\n",
       " 'artists']"
      ]
     },
     "execution_count": 160,
     "metadata": {},
     "output_type": "execute_result"
    }
   ],
   "source": [
    "os.listdir()"
   ]
  },
  {
   "cell_type": "code",
   "execution_count": null,
   "metadata": {},
   "outputs": [],
   "source": []
  }
 ],
 "metadata": {
  "kernelspec": {
   "display_name": "Python 3",
   "language": "python",
   "name": "python3"
  },
  "language_info": {
   "codemirror_mode": {
    "name": "ipython",
    "version": 3
   },
   "file_extension": ".py",
   "mimetype": "text/x-python",
   "name": "python",
   "nbconvert_exporter": "python",
   "pygments_lexer": "ipython3",
   "version": "3.6.5"
  }
 },
 "nbformat": 4,
 "nbformat_minor": 2
}
