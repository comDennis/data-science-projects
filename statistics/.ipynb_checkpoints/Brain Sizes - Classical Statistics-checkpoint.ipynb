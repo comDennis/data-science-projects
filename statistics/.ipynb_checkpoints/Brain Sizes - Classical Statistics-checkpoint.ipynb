{
 "cells": [
  {
   "cell_type": "code",
   "execution_count": 10,
   "metadata": {},
   "outputs": [],
   "source": [
    "import pandas as pd\n",
    "from scipy import stats\n",
    "import numpy as np\n",
    "import sklearn\n",
    "import statsmodels\n",
    "import matplotlib.pyplot as plt"
   ]
  },
  {
   "cell_type": "markdown",
   "metadata": {},
   "source": [
    "## Data Import\n",
    "The dataset contains information about the IQ of 40 individuals plus some of their characteristics like Weight, Height and Gender."
   ]
  },
  {
   "cell_type": "code",
   "execution_count": 26,
   "metadata": {},
   "outputs": [
    {
     "name": "stdout",
     "output_type": "stream",
     "text": [
      "   Gender  FSIQ  VIQ  PIQ  Weight  Height  MRI_Count\n",
      "1  Female   133  132  124   118.0    64.5     816932\n",
      "2    Male   140  150  124     NaN    72.5    1001121\n",
      "3    Male   139  123  150   143.0    73.3    1038437\n",
      "4    Male   133  129  128   172.0    68.8     965353\n",
      "5  Female   137  132  134   147.0    65.0     951545\n",
      "40\n"
     ]
    },
    {
     "data": {
      "text/plain": [
       "<matplotlib.axes._subplots.AxesSubplot at 0x7f30a6014f60>"
      ]
     },
     "execution_count": 26,
     "metadata": {},
     "output_type": "execute_result"
    },
    {
     "data": {
      "image/png": "[encoded data removed]",
      "text/plain": [
       "<Figure size 432x288 with 1 Axes>"
      ]
     },
     "metadata": {},
     "output_type": "display_data"
    }
   ],
   "source": [
    "brain_df = pd.read_csv(\"brain_size.csv\", sep=\";\", index_col=0, na_values=\".\")\n",
    "print(brain_df.head(5))\n",
    "print(len(brain_df))\n",
    "brain_df.plot(kind='scatter', x=\"Weight\", y=\"VIQ\")"
   ]
  },
  {
   "cell_type": "markdown",
   "metadata": {},
   "source": [
    "## Hypotheses Testing\n",
    "Used to quantify one's confidence how likely a specific pattern in the data is just a fluke.\n",
    "Test of H0, meaning that there is no pattern in the data at all (vs. H1 with there is a pattern). One cannot prove H0, but reject it. One can reject H0 if the test statistic (p-value) is below some specified threshold alpha (e.g. 0.05). The greater the threshold, the higher the probability to reject H0 by mistake. \n",
    "\n",
    "Answers the following question: How likely are the current results/observations under a specific assumption?\n",
    "E.g.: Throwing a dice 10 times, how likely is it to get ten ones in a row under the assumption that the dice is fair?\n",
    "\n",
    "\n",
    "### t-Test\n",
    "Two choices of null hypothesis in general:\n",
    "* two datasets come from the same normal distribution\n",
    "* two datasets from normal distributions with the same means but different standard deviations\n",
    "\n",
    "#### 1-sample t-test: Testing the mean\n",
    "Test if the mean of the data is likely to be equal to a given value.\n",
    "With a p-value of 1.32^-28 we can claim that the mean for the VIQ is not 0."
   ]
  },
  {
   "cell_type": "code",
   "execution_count": 3,
   "metadata": {},
   "outputs": [
    {
     "data": {
      "text/plain": [
       "Ttest_1sampResult(statistic=30.088099970849328, pvalue=1.3289196468728067e-28)"
      ]
     },
     "execution_count": 3,
     "metadata": {},
     "output_type": "execute_result"
    }
   ],
   "source": [
    "stats.ttest_1samp(brain_df['VIQ'], 0)"
   ]
  },
  {
   "cell_type": "markdown",
   "metadata": {},
   "source": [
    "#### 2-sample t-test: Testing differences across populations\n",
    "One can see that the mean VIQ in the male and the female populations are not the same. A 2-sample t-test can quantify whether this difference is significant.\n",
    "\n",
    "H0 (there is no difference) cannot be rejected because of a p-value of 0.445."
   ]
  },
  {
   "cell_type": "code",
   "execution_count": 4,
   "metadata": {},
   "outputs": [
    {
     "data": {
      "text/html": [
       "<div>\n",
       "<style scoped>\n",
       "    .dataframe tbody tr th:only-of-type {\n",
       "        vertical-align: middle;\n",
       "    }\n",
       "\n",
       "    .dataframe tbody tr th {\n",
       "        vertical-align: top;\n",
       "    }\n",
       "\n",
       "    .dataframe thead tr th {\n",
       "        text-align: left;\n",
       "    }\n",
       "\n",
       "    .dataframe thead tr:last-of-type th {\n",
       "        text-align: right;\n",
       "    }\n",
       "</style>\n",
       "<table border=\"1\" class=\"dataframe\">\n",
       "  <thead>\n",
       "    <tr>\n",
       "      <th></th>\n",
       "      <th colspan=\"8\" halign=\"left\">VIQ</th>\n",
       "    </tr>\n",
       "    <tr>\n",
       "      <th></th>\n",
       "      <th>count</th>\n",
       "      <th>mean</th>\n",
       "      <th>std</th>\n",
       "      <th>min</th>\n",
       "      <th>25%</th>\n",
       "      <th>50%</th>\n",
       "      <th>75%</th>\n",
       "      <th>max</th>\n",
       "    </tr>\n",
       "    <tr>\n",
       "      <th>Gender</th>\n",
       "      <th></th>\n",
       "      <th></th>\n",
       "      <th></th>\n",
       "      <th></th>\n",
       "      <th></th>\n",
       "      <th></th>\n",
       "      <th></th>\n",
       "      <th></th>\n",
       "    </tr>\n",
       "  </thead>\n",
       "  <tbody>\n",
       "    <tr>\n",
       "      <th>Female</th>\n",
       "      <td>20.0</td>\n",
       "      <td>109.45</td>\n",
       "      <td>21.670924</td>\n",
       "      <td>71.0</td>\n",
       "      <td>90.00</td>\n",
       "      <td>116.0</td>\n",
       "      <td>129.0</td>\n",
       "      <td>136.0</td>\n",
       "    </tr>\n",
       "    <tr>\n",
       "      <th>Male</th>\n",
       "      <td>20.0</td>\n",
       "      <td>115.25</td>\n",
       "      <td>25.640993</td>\n",
       "      <td>77.0</td>\n",
       "      <td>95.25</td>\n",
       "      <td>110.5</td>\n",
       "      <td>145.0</td>\n",
       "      <td>150.0</td>\n",
       "    </tr>\n",
       "  </tbody>\n",
       "</table>\n",
       "</div>"
      ],
      "text/plain": [
       "         VIQ                                                     \n",
       "       count    mean        std   min    25%    50%    75%    max\n",
       "Gender                                                           \n",
       "Female  20.0  109.45  21.670924  71.0  90.00  116.0  129.0  136.0\n",
       "Male    20.0  115.25  25.640993  77.0  95.25  110.5  145.0  150.0"
      ]
     },
     "execution_count": 4,
     "metadata": {},
     "output_type": "execute_result"
    }
   ],
   "source": [
    "brain_df[['VIQ', 'Gender']].groupby(\"Gender\").describe()"
   ]
  },
  {
   "cell_type": "code",
   "execution_count": 5,
   "metadata": {},
   "outputs": [
    {
     "data": {
      "text/plain": [
       "Ttest_indResult(statistic=-0.7726161723275011, pvalue=0.44452876778583217)"
      ]
     },
     "execution_count": 5,
     "metadata": {},
     "output_type": "execute_result"
    }
   ],
   "source": [
    "female_viq = brain_df[brain_df['Gender'] == 'Female']['VIQ']\n",
    "male_viq = brain_df[brain_df['Gender'] == 'Male']['VIQ']\n",
    "stats.ttest_ind(female_viq, male_viq)"
   ]
  },
  {
   "cell_type": "markdown",
   "metadata": {},
   "source": [
    "## Regression Modeling\n",
    "Regression models help to model the output Y as a linear combination of the inputs X.\n",
    "In other terms: Y = X * coef + intercept + e, where e is the observation noise.\n",
    "\n",
    "We can use a linear model to check whether there is a relation between the VIQ and the Gender.\n",
    "\n",
    "First approach with sklearn:"
   ]
  },
  {
   "cell_type": "code",
   "execution_count": 20,
   "metadata": {},
   "outputs": [
    {
     "name": "stdout",
     "output_type": "stream",
     "text": [
      "[5.8]\n"
     ]
    }
   ],
   "source": [
    "from sklearn import linear_model, preprocessing\n",
    "encoder = preprocessing.LabelEncoder()\n",
    "encoder.fit(['Male', 'Female'])\n",
    "brain_df['IsMale'] = encoder.transform(brain_df['Gender'])\n",
    "\n",
    "lin_model = linear_model.LinearRegression()\n",
    "lin_model.fit(brain_df['IsMale'].values.reshape(-1, 1), brain_df['VIQ'].values.reshape(-1, 1))\n",
    "for c in lin_model.coef_:\n",
    "    print(c)"
   ]
  },
  {
   "cell_type": "markdown",
   "metadata": {},
   "source": [
    "Second approach with statsmodels which is more appropriate for this type of analysis (but naturally leads to the same coefficients).\n",
    "The p-value is the same as in the hypotheses test."
   ]
  },
  {
   "cell_type": "code",
   "execution_count": 25,
   "metadata": {},
   "outputs": [
    {
     "name": "stdout",
     "output_type": "stream",
     "text": [
      "                            OLS Regression Results                            \n",
      "==============================================================================\n",
      "Dep. Variable:                    VIQ   R-squared:                       0.015\n",
      "Model:                            OLS   Adj. R-squared:                 -0.010\n",
      "Method:                 Least Squares   F-statistic:                    0.5969\n",
      "Date:                Sun, 21 Oct 2018   Prob (F-statistic):              0.445\n",
      "Time:                        13:37:20   Log-Likelihood:                -182.42\n",
      "No. Observations:                  40   AIC:                             368.8\n",
      "Df Residuals:                      38   BIC:                             372.2\n",
      "Df Model:                           1                                         \n",
      "Covariance Type:            nonrobust                                         \n",
      "==================================================================================\n",
      "                     coef    std err          t      P>|t|      [0.025      0.975]\n",
      "----------------------------------------------------------------------------------\n",
      "Intercept        109.4500      5.308     20.619      0.000      98.704     120.196\n",
      "Gender[T.Male]     5.8000      7.507      0.773      0.445      -9.397      20.997\n",
      "==============================================================================\n",
      "Omnibus:                       26.188   Durbin-Watson:                   1.709\n",
      "Prob(Omnibus):                  0.000   Jarque-Bera (JB):                3.703\n",
      "Skew:                           0.010   Prob(JB):                        0.157\n",
      "Kurtosis:                       1.510   Cond. No.                         2.62\n",
      "==============================================================================\n",
      "\n",
      "Warnings:\n",
      "[1] Standard Errors assume that the covariance matrix of the errors is correctly specified.\n"
     ]
    }
   ],
   "source": [
    "from statsmodels.formula.api import ols\n",
    "model = ols(\"VIQ ~ Gender + 1\", brain_df).fit()\n",
    "print(model.summary())"
   ]
  },
  {
   "cell_type": "markdown",
   "metadata": {},
   "source": [
    "#### Multiple Regression\n",
    "Checking whether some of the remaining variables has an influence on the VIQ, which does not seem to be the case.\n",
    "\n",
    "For a level of confidence of 95%, the MRI_count seems to have a slightly positive effect on the VIQ."
   ]
  },
  {
   "cell_type": "code",
   "execution_count": 28,
   "metadata": {},
   "outputs": [
    {
     "name": "stdout",
     "output_type": "stream",
     "text": [
      "                            OLS Regression Results                            \n",
      "==============================================================================\n",
      "Dep. Variable:                    VIQ   R-squared:                       0.249\n",
      "Model:                            OLS   Adj. R-squared:                  0.158\n",
      "Method:                 Least Squares   F-statistic:                     2.733\n",
      "Date:                Sun, 21 Oct 2018   Prob (F-statistic):             0.0455\n",
      "Time:                        13:40:46   Log-Likelihood:                -167.03\n",
      "No. Observations:                  38   AIC:                             344.1\n",
      "Df Residuals:                      33   BIC:                             352.2\n",
      "Df Model:                           4                                         \n",
      "Covariance Type:            nonrobust                                         \n",
      "==================================================================================\n",
      "                     coef    std err          t      P>|t|      [0.025      0.975]\n",
      "----------------------------------------------------------------------------------\n",
      "Intercept        169.7719     90.054      1.885      0.068     -13.443     352.987\n",
      "Gender[T.Male]    10.1579     10.891      0.933      0.358     -12.001      32.317\n",
      "Weight            -0.1427      0.215     -0.665      0.511      -0.579       0.294\n",
      "Height            -2.7337      1.410     -1.938      0.061      -5.603       0.136\n",
      "MRI_Count          0.0002   6.48e-05      2.489      0.018    2.94e-05       0.000\n",
      "==============================================================================\n",
      "Omnibus:                        5.002   Durbin-Watson:                   2.272\n",
      "Prob(Omnibus):                  0.082   Jarque-Bera (JB):                1.892\n",
      "Skew:                          -0.066   Prob(JB):                        0.388\n",
      "Kurtosis:                       1.915   Cond. No.                     2.41e+07\n",
      "==============================================================================\n",
      "\n",
      "Warnings:\n",
      "[1] Standard Errors assume that the covariance matrix of the errors is correctly specified.\n",
      "[2] The condition number is large, 2.41e+07. This might indicate that there are\n",
      "strong multicollinearity or other numerical problems.\n"
     ]
    }
   ],
   "source": [
    "from statsmodels.formula.api import ols\n",
    "model = ols(\"VIQ ~ Weight + Height + MRI_Count + Gender + 1\", brain_df).fit()\n",
    "print(model.summary())"
   ]
  },
  {
   "cell_type": "code",
   "execution_count": null,
   "metadata": {},
   "outputs": [],
   "source": []
  }
 ],
 "metadata": {
  "kernelspec": {
   "display_name": "Python 3",
   "language": "python",
   "name": "python3"
  },
  "language_info": {
   "codemirror_mode": {
    "name": "ipython",
    "version": 3
   },
   "file_extension": ".py",
   "mimetype": "text/x-python",
   "name": "python",
   "nbconvert_exporter": "python",
   "pygments_lexer": "ipython3",
   "version": "3.6.6"
  }
 },
 "nbformat": 4,
 "nbformat_minor": 2
}
