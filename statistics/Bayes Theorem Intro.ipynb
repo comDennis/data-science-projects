{
 "cells": [
  {
   "cell_type": "markdown",
   "metadata": {},
   "source": [
    "# Bayes Theorem\n",
    "NB to get a better understanding of Bayes Theorem in practice with Python.\n",
    "\n",
    "## Theory\n",
    "**Bayes Theorem:** Probability that the real-world parameter is equal to a specific value, given the data we have at the moment.\n",
    "\n",
    "E.g. if we would assume that women do in general have long hair, a person's hair length could be used to more accurately guess the person's gender (compared to guessing without this additional information).\n",
    "\n",
    "P(A|B) = (P(B|A) * P(A)) / (P(B), with A = Female and B = long hair.\n",
    "\n",
    "In general, the theorem connects sampling distribution and prior distribution to a posterior distribution. \n",
    "\n",
    "Example for coinflips: 1000 coinflips where we can either get heads (1) or tail (0).\n"
   ]
  },
  {
   "cell_type": "code",
   "execution_count": 5,
   "metadata": {},
   "outputs": [
    {
     "name": "stdout",
     "output_type": "stream",
     "text": [
      "0.508\n"
     ]
    }
   ],
   "source": [
    "import numpy as np\n",
    "flips = np.random.binomial(n=1, p=.5, size=1000)\n",
    "print(np.mean(flips))"
   ]
  },
  {
   "cell_type": "markdown",
   "metadata": {},
   "source": [
    "### Sampling Distribution\n",
    "Probability of a value given the data we have -> P(B|A).\n"
   ]
  },
  {
   "cell_type": "code",
   "execution_count": null,
   "metadata": {},
   "outputs": [],
   "source": []
  }
 ],
 "metadata": {
  "kernelspec": {
   "display_name": "Python 3",
   "language": "python",
   "name": "python3"
  },
  "language_info": {
   "codemirror_mode": {
    "name": "ipython",
    "version": 3
   },
   "file_extension": ".py",
   "mimetype": "text/x-python",
   "name": "python",
   "nbconvert_exporter": "python",
   "pygments_lexer": "ipython3",
   "version": "3.6.6"
  }
 },
 "nbformat": 4,
 "nbformat_minor": 2
}
