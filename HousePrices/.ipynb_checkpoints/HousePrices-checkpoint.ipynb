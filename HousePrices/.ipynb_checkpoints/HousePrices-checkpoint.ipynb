{
 "cells": [
  {
   "cell_type": "markdown",
   "metadata": {},
   "source": [
    "# HousePrice-Prediction with Regression Techniques\n",
    "## About\n",
    "Data-Source: [Kaggle](https://www.kaggle.com/c/house-prices-advanced-regression-techniques)"
   ]
  },
  {
   "cell_type": "code",
   "execution_count": 1,
   "metadata": {},
   "outputs": [],
   "source": [
    "# imports\n",
    "import os\n",
    "import pandas as pd\n",
    "import numpy as np\n",
    "import sklearn\n",
    "%matplotlib inline\n",
    "from scipy import stats\n",
    "import matplotlib.pyplot as plt\n",
    "import seaborn as sns\n",
    "from scipy.stats import norm, skew\n",
    "sns.set()\n",
    "import warnings\n",
    "from sklearn.preprocessing import LabelEncoder\n",
    "def ignore_warn(*args, **kwargs):\n",
    "    pass\n",
    "warnings.warn = ignore_warn\n",
    "\n",
    "# load data\n",
    "train_df = pd.read_csv(\"train.csv\")\n",
    "test_df = pd.read_csv(\"test.csv\")"
   ]
  },
  {
   "cell_type": "markdown",
   "metadata": {},
   "source": [
    "First quick look on the data:"
   ]
  },
  {
   "cell_type": "code",
   "execution_count": 2,
   "metadata": {},
   "outputs": [
    {
     "name": "stdout",
     "output_type": "stream",
     "text": [
      "Size Training: 1460, Size test: 1459\n",
      "   Id  MSSubClass MSZoning  LotFrontage  LotArea Street Alley LotShape  \\\n",
      "0   1          60       RL         65.0     8450   Pave   NaN      Reg   \n",
      "1   2          20       RL         80.0     9600   Pave   NaN      Reg   \n",
      "2   3          60       RL         68.0    11250   Pave   NaN      IR1   \n",
      "\n",
      "  LandContour Utilities    ...     PoolArea PoolQC Fence MiscFeature MiscVal  \\\n",
      "0         Lvl    AllPub    ...            0    NaN   NaN         NaN       0   \n",
      "1         Lvl    AllPub    ...            0    NaN   NaN         NaN       0   \n",
      "2         Lvl    AllPub    ...            0    NaN   NaN         NaN       0   \n",
      "\n",
      "  MoSold YrSold  SaleType  SaleCondition  SalePrice  \n",
      "0      2   2008        WD         Normal     208500  \n",
      "1      5   2007        WD         Normal     181500  \n",
      "2      9   2008        WD         Normal     223500  \n",
      "\n",
      "[3 rows x 81 columns]\n"
     ]
    }
   ],
   "source": [
    "print(\"Size Training: %d, Size test: %d\" %(len(train_df), len(test_df)))\n",
    "print(train_df.head(3))"
   ]
  },
  {
   "cell_type": "markdown",
   "metadata": {},
   "source": [
    "## Data preparation\n",
    "Before training and evaluating any model on the data, the datasets have to be prepared.\n",
    "\n",
    "### Missing Values\n",
    "First, the missing values should be eliminated. To do so, I will concatenate the training and test data first and remove/impute the missing values in the next steps.\n",
    "Let's have a look at the missing values for each feature first. I will limit the analysis to all features where the ratio of nan-values is greater than 0.5%:\n",
    "* **PoolQC**: Only 0.3% of the entries have a value for the pool quality. According to the description, NaN values is equal to 'no pool available' though and thus can be translated to this value.\n",
    "* **MiscFeature**: Includes different values like Elevator, 2nd garage etc. that are not represented by a separate feature. Nan means there is no such special value at all. This feature could probably be transformed with OneHot-Encoding.\n",
    "* **Alley/Fence/FireplaceQu/GarageFinish/GarageQual/GarageCond/GarageYrBlt/GarageType/BsmtCont/BsmtExposure/BsmtQual/BsmtFinType1/BsmtFinType2/MasVnrType/MasVnrArea**: Defines the type of this category. NaN means there isn't such an item at all, so the missing values can be translated to 'not available' or 'not applicable'.\n",
    "* **LotFrontage**: The distance between the street and the house should be similar within the same neighborhood. Therefore I will calculate the median (mean is probably to sensitive for outliers here) and use it to fill the missing values."
   ]
  },
  {
   "cell_type": "code",
   "execution_count": 17,
   "metadata": {},
   "outputs": [
    {
     "name": "stdout",
     "output_type": "stream",
     "text": [
      "2919\n",
      "1460\n"
     ]
    },
    {
     "data": {
      "text/plain": [
       "<matplotlib.axes._subplots.AxesSubplot at 0x7f3d2442ee10>"
      ]
     },
     "execution_count": 17,
     "metadata": {},
     "output_type": "execute_result"
    },
    {
     "data": {
      "image/png": "[encoded data removed]",
      "text/plain": [
       "<Figure size 720x504 with 1 Axes>"
      ]
     },
     "metadata": {},
     "output_type": "display_data"
    }
   ],
   "source": [
    "ntrain = len(train_df)\n",
    "ntest = len(test_df)\n",
    "complete_df = pd.concat([train_df, test_df]).reset_index(drop=True)\n",
    "length_complete = len(complete_df)\n",
    "print(length_complete)\n",
    "sales_df = complete_df[['SalePrice', 'Id']]\n",
    "complete_df.drop('SalePrice', axis=1, inplace=True)\n",
    "\n",
    "missing_df = pd.DataFrame(columns=['feature', 'complete_ratio'])\n",
    "for feature in complete_df.columns:\n",
    "    complete_ratio = len(complete_df[feature].dropna()) / length_complete\n",
    "    missing_df.loc[len(missing_df) + 1] = [feature, complete_ratio]\n",
    " \n",
    "\n",
    "f, ax = plt.subplots(figsize=(10, 7))\n",
    "plt.xticks(rotation='90')\n",
    "rel_missing = missing_df[missing_df['complete_ratio'] <= 0.995].sort_values('complete_ratio', ascending=True)\n",
    "sns.barplot(rel_missing['feature'], rel_missing['complete_ratio'])"
   ]
  },
  {
   "cell_type": "markdown",
   "metadata": {},
   "source": [
    "As explained above, there exists a simple possibility to fill the missing values in most cases. This will be done for the features where the ratio of missing values is greater than 0.5%. After that, I decided to drop the remaining missing values since this reduces the size of the dataset only by 13 entries from 2919 to 2106."
   ]
  },
  {
   "cell_type": "code",
   "execution_count": 4,
   "metadata": {},
   "outputs": [
    {
     "name": "stdout",
     "output_type": "stream",
     "text": [
      "{'Shed', 'Gar2', 'Othr', 'none', 'TenC'}\n",
      "Empty DataFrame\n",
      "Columns: [feature, complete_ratio]\n",
      "Index: []\n",
      "2919\n",
      "2906\n"
     ]
    }
   ],
   "source": [
    "# replace NaN by 'None' where applicable\n",
    "none_columns = ['PoolQC', 'Alley', 'Fence', 'FireplaceQu', 'GarageCond', 'GarageQual', 'GarageYrBlt', 'GarageFinish',\n",
    "               'GarageType', 'BsmtExposure', 'BsmtCond', 'BsmtQual', 'MiscFeature', 'MasVnrType']\n",
    "complete_df_none = complete_df.copy()\n",
    "for none_column in none_columns:\n",
    "    complete_df_none[none_column] = complete_df_none[none_column].fillna('none')\n",
    "    \n",
    "# replace NaN by 0 where applicable\n",
    "none_columns = ['BsmtFinType1', 'BsmtFinType2', 'MasVnrArea']\n",
    "for none_column in none_columns:\n",
    "    complete_df_none[none_column] = complete_df_none[none_column].fillna(0)\n",
    "    \n",
    "# Fill LotFrontage\n",
    "neighboor_lf = complete_df_none.groupby('Neighborhood')['LotFrontage'].agg('median').reset_index()\n",
    "neighboor_lf.columns = ['Neighborhood','median_dis']\n",
    "\n",
    "def replace_na(r):\n",
    "    neighborhood = r['Neighborhood']\n",
    "    lf = r['LotFrontage']\n",
    "    if pd.isnull(lf):\n",
    "        return neighboor_lf[neighboor_lf['Neighborhood'] == neighborhood]['median_dis'].values[0]\n",
    "    else:\n",
    "        return lf\n",
    "\n",
    "complete_df_none['LotFrontage'] = complete_df_none.apply(lambda x: replace_na(x), axis=1)\n",
    "\n",
    "# one hot encoding for MiscFeature\n",
    "print(set(complete_df_none['MiscFeature'].values))\n",
    "complete_df_none = pd.concat([complete_df_none, pd.get_dummies(complete_df_none['MiscFeature'])], axis=1)\n",
    "complete_df_none.drop('MiscFeature', axis=1)\n",
    "\n",
    "# check ratio of nans again\n",
    "missing_df2 = pd.DataFrame(columns=['feature', 'complete_ratio'])\n",
    "for feature in complete_df_none.columns:\n",
    "    complete_ratio = len(complete_df_none[feature].dropna()) / length_complete\n",
    "    missing_df2.loc[len(missing_df2) + 1] = [feature, complete_ratio]\n",
    "print(missing_df2[missing_df2['complete_ratio'] <= 0.995].sort_values('complete_ratio', ascending=True)) \n",
    "\n",
    "# drop remaining missing values\n",
    "print(len(complete_df_none))\n",
    "print(len(complete_df_none.dropna()))\n",
    "complete_df_none.dropna(inplace=True)"
   ]
  },
  {
   "cell_type": "markdown",
   "metadata": {},
   "source": [
    "### Feature Engineering\n"
   ]
  },
  {
   "cell_type": "code",
   "execution_count": 5,
   "metadata": {},
   "outputs": [],
   "source": [
    "# some numerical values are actually categorical and have to be transformed\n",
    "to_string_cols = ['MSSubClass', 'OverallCond', 'YrSold', 'MoSold']\n",
    "for col in to_string_cols:\n",
    "    complete_df_none[col] = complete_df_none[col].astype(str)"
   ]
  },
  {
   "cell_type": "markdown",
   "metadata": {},
   "source": [
    "Looking at the values of some discrete variables like *FireplaceQu* (Poor, Fair, Average, Good, Excellent), one can see that those values have an order. In order to use this information, the values are transformed with LabelEncoding. "
   ]
  },
  {
   "cell_type": "code",
   "execution_count": 6,
   "metadata": {},
   "outputs": [],
   "source": [
    "# some categorical values can be ordered\n",
    "complete_df_order = complete_df_none.copy()\n",
    "order_cols = ['FireplaceQu', 'BsmtQual', 'BsmtCond', 'GarageQual', 'GarageCond', 'ExterQual', 'ExterCond',\n",
    "              'HeatingQC', 'PoolQC', 'KitchenQual', 'BsmtFinType1', 'BsmtFinType2', 'Functional', 'Fence', \n",
    "              'BsmtExposure', 'GarageFinish', 'LandSlope', 'LotShape', 'PavedDrive', 'Street', 'Alley', \n",
    "              'CentralAir', 'MSSubClass', 'OverallCond', 'YrSold', 'MoSold']\n",
    "\n",
    "for col in order_cols:\n",
    "    encoder = LabelEncoder()\n",
    "    encoder.fit(list(complete_df_order[col].values))\n",
    "    complete_df_order[col] = encoder.transform(list(complete_df_order[col].values))"
   ]
  },
  {
   "cell_type": "markdown",
   "metadata": {},
   "source": [
    "I will add the sum of the following variables as an extra future, representing the total area of a house which should be pretty important when determining the salesprice: TotalBsmtSF, 1stFlrSF, 2ndFlrSF."
   ]
  },
  {
   "cell_type": "code",
   "execution_count": 12,
   "metadata": {},
   "outputs": [
    {
     "name": "stdout",
     "output_type": "stream",
     "text": [
      "Index(['1stFlrSF', '2ndFlrSF', '3SsnPorch', 'Alley', 'BedroomAbvGr',\n",
      "       'BldgType', 'BsmtCond', 'BsmtExposure', 'BsmtFinSF1', 'BsmtFinSF2',\n",
      "       'BsmtFinType1', 'BsmtFinType2', 'BsmtFullBath', 'BsmtHalfBath',\n",
      "       'BsmtQual', 'BsmtUnfSF', 'CentralAir', 'Condition1', 'Condition2',\n",
      "       'Electrical', 'EnclosedPorch', 'ExterCond', 'ExterQual', 'Exterior1st',\n",
      "       'Exterior2nd', 'Fence', 'FireplaceQu', 'Fireplaces', 'Foundation',\n",
      "       'FullBath', 'Functional', 'GarageArea', 'GarageCars', 'GarageCond',\n",
      "       'GarageFinish', 'GarageQual', 'GarageType', 'GarageYrBlt', 'GrLivArea',\n",
      "       'HalfBath', 'Heating', 'HeatingQC', 'HouseStyle', 'Id', 'KitchenAbvGr',\n",
      "       'KitchenQual', 'LandContour', 'LandSlope', 'LotArea', 'LotConfig',\n",
      "       'LotFrontage', 'LotShape', 'LowQualFinSF', 'MSSubClass', 'MSZoning',\n",
      "       'MasVnrArea', 'MasVnrType', 'MiscFeature', 'MiscVal', 'MoSold',\n",
      "       'Neighborhood', 'OpenPorchSF', 'OverallCond', 'OverallQual',\n",
      "       'PavedDrive', 'PoolArea', 'PoolQC', 'RoofMatl', 'RoofStyle',\n",
      "       'SaleCondition', 'SaleType', 'ScreenPorch', 'Street', 'TotRmsAbvGrd',\n",
      "       'TotalBsmtSF', 'Utilities', 'WoodDeckSF', 'YearBuilt', 'YearRemodAdd',\n",
      "       'YrSold', 'Gar2', 'Othr', 'Shed', 'TenC', 'none', 'TotalSF',\n",
      "       'SalePrice'],\n",
      "      dtype='object')\n"
     ]
    }
   ],
   "source": [
    "# add new feature: total area\n",
    "complete_df_order['TotalSF'] = complete_df_order['TotalBsmtSF'] + complete_df_order['1stFlrSF'] + complete_df_order['2ndFlrSF']\n",
    "complete_df = complete_df_order.merge(sales_df, on=\"Id\")"
   ]
  },
  {
   "cell_type": "markdown",
   "metadata": {},
   "source": [
    "### Target Variable\n",
    "\n",
    "Interpreting and evaluating the model will be easier if the target variable is normally distributed. Thus I will check whether this is fulfilled by plotting its distribution and the QQ-Plot. Findings:\n",
    "* The first plot shows that the data is right skewed\n",
    "* The QQ-Plot confirms that the data is not normally distributed."
   ]
  },
  {
   "cell_type": "code",
   "execution_count": 15,
   "metadata": {},
   "outputs": [
    {
     "name": "stdout",
     "output_type": "stream",
     "text": [
      "2906\n",
      "1459\n"
     ]
    },
    {
     "name": "stderr",
     "output_type": "stream",
     "text": [
      "/home/dennis/.local/lib/python3.6/site-packages/scipy/stats/stats.py:1713: FutureWarning: Using a non-tuple sequence for multidimensional indexing is deprecated; use `arr[tuple(seq)]` instead of `arr[seq]`. In the future this will be interpreted as an array index, `arr[np.array(seq)]`, which will result either in an error or a different result.\n",
      "  return np.add.reduce(sorted[indexer] * weights, axis=axis) / sumval\n",
      "/home/dennis/.local/lib/python3.6/site-packages/numpy/core/_methods.py:28: RuntimeWarning: invalid value encountered in reduce\n",
      "  return umr_maximum(a, axis, None, out, keepdims, initial)\n",
      "/home/dennis/.local/lib/python3.6/site-packages/numpy/core/_methods.py:32: RuntimeWarning: invalid value encountered in reduce\n",
      "  return umr_minimum(a, axis, None, out, keepdims, initial)\n"
     ]
    },
    {
     "ename": "ValueError",
     "evalue": "cannot convert float NaN to integer",
     "output_type": "error",
     "traceback": [
      "\u001b[0;31m---------------------------------------------------------------------------\u001b[0m",
      "\u001b[0;31mValueError\u001b[0m                                Traceback (most recent call last)",
      "\u001b[0;32m<ipython-input-15-5963e7efb7c7>\u001b[0m in \u001b[0;36m<module>\u001b[0;34m()\u001b[0m\n\u001b[1;32m      5\u001b[0m \u001b[0mprint\u001b[0m\u001b[0;34m(\u001b[0m\u001b[0mlen\u001b[0m\u001b[0;34m(\u001b[0m\u001b[0mcomplete_df\u001b[0m\u001b[0;34m)\u001b[0m\u001b[0;34m)\u001b[0m\u001b[0;34m\u001b[0m\u001b[0m\n\u001b[1;32m      6\u001b[0m \u001b[0mprint\u001b[0m\u001b[0;34m(\u001b[0m\u001b[0mlen\u001b[0m\u001b[0;34m(\u001b[0m\u001b[0mcomplete_df\u001b[0m\u001b[0;34m[\u001b[0m\u001b[0;34m'SalePrice'\u001b[0m\u001b[0;34m]\u001b[0m\u001b[0;34m.\u001b[0m\u001b[0mdropna\u001b[0m\u001b[0;34m(\u001b[0m\u001b[0;34m)\u001b[0m\u001b[0;34m)\u001b[0m\u001b[0;34m)\u001b[0m\u001b[0;34m\u001b[0m\u001b[0m\n\u001b[0;32m----> 7\u001b[0;31m \u001b[0msns\u001b[0m\u001b[0;34m.\u001b[0m\u001b[0mdistplot\u001b[0m\u001b[0;34m(\u001b[0m\u001b[0mcomplete_df\u001b[0m\u001b[0;34m[\u001b[0m\u001b[0;34m'SalePrice'\u001b[0m\u001b[0;34m]\u001b[0m\u001b[0;34m,\u001b[0m \u001b[0mfit\u001b[0m\u001b[0;34m=\u001b[0m\u001b[0mnorm\u001b[0m\u001b[0;34m,\u001b[0m \u001b[0max\u001b[0m\u001b[0;34m=\u001b[0m\u001b[0max1\u001b[0m\u001b[0;34m)\u001b[0m\u001b[0;34m\u001b[0m\u001b[0m\n\u001b[0m\u001b[1;32m      8\u001b[0m \u001b[0;34m\u001b[0m\u001b[0m\n\u001b[1;32m      9\u001b[0m \u001b[0mres\u001b[0m \u001b[0;34m=\u001b[0m \u001b[0mstats\u001b[0m\u001b[0;34m.\u001b[0m\u001b[0mprobplot\u001b[0m\u001b[0;34m(\u001b[0m\u001b[0mcomplete_df\u001b[0m\u001b[0;34m[\u001b[0m\u001b[0;34m'SalePrice'\u001b[0m\u001b[0;34m]\u001b[0m\u001b[0;34m,\u001b[0m \u001b[0mplot\u001b[0m\u001b[0;34m=\u001b[0m\u001b[0max2\u001b[0m\u001b[0;34m)\u001b[0m\u001b[0;34m\u001b[0m\u001b[0m\n",
      "\u001b[0;32m~/.local/lib/python3.6/site-packages/seaborn/distributions.py\u001b[0m in \u001b[0;36mdistplot\u001b[0;34m(a, bins, hist, kde, rug, fit, hist_kws, kde_kws, rug_kws, fit_kws, color, vertical, norm_hist, axlabel, label, ax)\u001b[0m\n\u001b[1;32m    213\u001b[0m     \u001b[0;32mif\u001b[0m \u001b[0mhist\u001b[0m\u001b[0;34m:\u001b[0m\u001b[0;34m\u001b[0m\u001b[0m\n\u001b[1;32m    214\u001b[0m         \u001b[0;32mif\u001b[0m \u001b[0mbins\u001b[0m \u001b[0;32mis\u001b[0m \u001b[0;32mNone\u001b[0m\u001b[0;34m:\u001b[0m\u001b[0;34m\u001b[0m\u001b[0m\n\u001b[0;32m--> 215\u001b[0;31m             \u001b[0mbins\u001b[0m \u001b[0;34m=\u001b[0m \u001b[0mmin\u001b[0m\u001b[0;34m(\u001b[0m\u001b[0m_freedman_diaconis_bins\u001b[0m\u001b[0;34m(\u001b[0m\u001b[0ma\u001b[0m\u001b[0;34m)\u001b[0m\u001b[0;34m,\u001b[0m \u001b[0;36m50\u001b[0m\u001b[0;34m)\u001b[0m\u001b[0;34m\u001b[0m\u001b[0m\n\u001b[0m\u001b[1;32m    216\u001b[0m         \u001b[0mhist_kws\u001b[0m\u001b[0;34m.\u001b[0m\u001b[0msetdefault\u001b[0m\u001b[0;34m(\u001b[0m\u001b[0;34m\"alpha\"\u001b[0m\u001b[0;34m,\u001b[0m \u001b[0;36m0.4\u001b[0m\u001b[0;34m)\u001b[0m\u001b[0;34m\u001b[0m\u001b[0m\n\u001b[1;32m    217\u001b[0m         \u001b[0;32mif\u001b[0m \u001b[0mLooseVersion\u001b[0m\u001b[0;34m(\u001b[0m\u001b[0mmpl\u001b[0m\u001b[0;34m.\u001b[0m\u001b[0m__version__\u001b[0m\u001b[0;34m)\u001b[0m \u001b[0;34m<\u001b[0m \u001b[0mLooseVersion\u001b[0m\u001b[0;34m(\u001b[0m\u001b[0;34m\"2.2\"\u001b[0m\u001b[0;34m)\u001b[0m\u001b[0;34m:\u001b[0m\u001b[0;34m\u001b[0m\u001b[0m\n",
      "\u001b[0;32m~/.local/lib/python3.6/site-packages/seaborn/distributions.py\u001b[0m in \u001b[0;36m_freedman_diaconis_bins\u001b[0;34m(a)\u001b[0m\n\u001b[1;32m     37\u001b[0m         \u001b[0;32mreturn\u001b[0m \u001b[0mint\u001b[0m\u001b[0;34m(\u001b[0m\u001b[0mnp\u001b[0m\u001b[0;34m.\u001b[0m\u001b[0msqrt\u001b[0m\u001b[0;34m(\u001b[0m\u001b[0ma\u001b[0m\u001b[0;34m.\u001b[0m\u001b[0msize\u001b[0m\u001b[0;34m)\u001b[0m\u001b[0;34m)\u001b[0m\u001b[0;34m\u001b[0m\u001b[0m\n\u001b[1;32m     38\u001b[0m     \u001b[0;32melse\u001b[0m\u001b[0;34m:\u001b[0m\u001b[0;34m\u001b[0m\u001b[0m\n\u001b[0;32m---> 39\u001b[0;31m         \u001b[0;32mreturn\u001b[0m \u001b[0mint\u001b[0m\u001b[0;34m(\u001b[0m\u001b[0mnp\u001b[0m\u001b[0;34m.\u001b[0m\u001b[0mceil\u001b[0m\u001b[0;34m(\u001b[0m\u001b[0;34m(\u001b[0m\u001b[0ma\u001b[0m\u001b[0;34m.\u001b[0m\u001b[0mmax\u001b[0m\u001b[0;34m(\u001b[0m\u001b[0;34m)\u001b[0m \u001b[0;34m-\u001b[0m \u001b[0ma\u001b[0m\u001b[0;34m.\u001b[0m\u001b[0mmin\u001b[0m\u001b[0;34m(\u001b[0m\u001b[0;34m)\u001b[0m\u001b[0;34m)\u001b[0m \u001b[0;34m/\u001b[0m \u001b[0mh\u001b[0m\u001b[0;34m)\u001b[0m\u001b[0;34m)\u001b[0m\u001b[0;34m\u001b[0m\u001b[0m\n\u001b[0m\u001b[1;32m     40\u001b[0m \u001b[0;34m\u001b[0m\u001b[0m\n\u001b[1;32m     41\u001b[0m \u001b[0;34m\u001b[0m\u001b[0m\n",
      "\u001b[0;31mValueError\u001b[0m: cannot convert float NaN to integer"
     ]
    },
    {
     "data": {
      "image/png": "[encoded data removed]",
      "text/plain": [
       "<Figure size 576x432 with 2 Axes>"
      ]
     },
     "metadata": {},
     "output_type": "display_data"
    }
   ],
   "source": [
    "fig = plt.figure(figsize=(8, 6))\n",
    "ax1 = fig.add_subplot(211)\n",
    "ax2 = fig.add_subplot(212)\n",
    "\n",
    "print(len(complete_df))\n",
    "print(len(complete_df['SalePrice'].dropna()))\n",
    "sns.distplot(complete_df['SalePrice'], fit=norm, ax=ax1)\n",
    "\n",
    "res = stats.probplot(complete_df['SalePrice'], plot=ax2)\n",
    "fig.tight_layout()\n",
    "plt.show()"
   ]
  },
  {
   "cell_type": "markdown",
   "metadata": {},
   "source": [
    "To solve this, I will apply the log-log-transformation on the target variable.\n",
    "As a result, one can see that the distribution of the SalesPrices appears more normally distributed now. "
   ]
  },
  {
   "cell_type": "code",
   "execution_count": null,
   "metadata": {},
   "outputs": [],
   "source": [
    "# use log to transform the dependent variable\n",
    "train_df['SalePriceLog'] = np.log1p(train_df['SalePrice'])\n",
    "\n",
    "fig = plt.figure(figsize=(8, 6))\n",
    "ax1 = fig.add_subplot(211)\n",
    "ax2 = fig.add_subplot(212)\n",
    "\n",
    "sns.distplot(train_df['SalePriceLog'], fit=norm, ax=ax1)\n",
    "\n",
    "res = stats.probplot(train_df['SalePriceLog'], plot=ax2)\n",
    "fig.tight_layout()\n",
    "plt.show()"
   ]
  },
  {
   "cell_type": "markdown",
   "metadata": {},
   "source": [
    "The result table will be splitted back in test and training set and the target variable will be added to both."
   ]
  },
  {
   "cell_type": "code",
   "execution_count": null,
   "metadata": {},
   "outputs": [],
   "source": [
    "# split train and test set again\n",
    "# train_df = complete_df_order[ntrain:]\n",
    "# test_df = complete_df_order[:ntest]"
   ]
  },
  {
   "cell_type": "markdown",
   "metadata": {},
   "source": [
    "## Modeling\n",
    "\n",
    "### Linear Regression\n",
    "\n"
   ]
  },
  {
   "cell_type": "markdown",
   "metadata": {},
   "source": [
    "### \n",
    "\n"
   ]
  },
  {
   "cell_type": "code",
   "execution_count": null,
   "metadata": {},
   "outputs": [],
   "source": []
  }
 ],
 "metadata": {
  "kernelspec": {
   "display_name": "Python 3",
   "language": "python",
   "name": "python3"
  },
  "language_info": {
   "codemirror_mode": {
    "name": "ipython",
    "version": 3
   },
   "file_extension": ".py",
   "mimetype": "text/x-python",
   "name": "python",
   "nbconvert_exporter": "python",
   "pygments_lexer": "ipython3",
   "version": "3.6.6"
  }
 },
 "nbformat": 4,
 "nbformat_minor": 2
}
