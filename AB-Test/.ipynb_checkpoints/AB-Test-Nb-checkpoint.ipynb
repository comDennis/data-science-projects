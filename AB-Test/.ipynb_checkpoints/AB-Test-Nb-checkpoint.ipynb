{
 "cells": [
  {
   "cell_type": "markdown",
   "metadata": {},
   "source": [
    "# About this Notebook\n",
    "\n",
    "Within this notebook, log data from an online plattform is used to evaluate a new feature. The plattform can be used to book appointments in different locations (like barbers). With the new feature, users can see which venues are top-ranked. The data ranges from 01/09/2017 until 14/11/2017. The new feature was introduced on the 4th of October 2017.\n",
    "\n",
    "Two **tables** are available:\n",
    "* Venues: List of venues with information about whether they are top-ranked or not\n",
    "* Events: Log data from user visits\n",
    "\n",
    "The following **questions** should be answered:\n",
    "\n",
    "*Business-Perspective*:\n",
    "* Does the new feature increase the probability that a booking process is completed?\n",
    "\n",
    "*Regarding the user experience*:\n",
    "* Does the new feature help to decrease the search time?\n",
    "* Do users find the recommendations useful? &rarr; Does the number of bookings increase if a venue is top-rated?\n",
    "\n",
    "The following **assumptions** are made:\n",
    "* There is no substantial change in the user behaviour across the months September to November (otherwise the data from the two groups must have been collected at the same time)\n",
    "\n",
    "First, the two tables are loaded:"
   ]
  },
  {
   "cell_type": "code",
   "execution_count": 108,
   "metadata": {},
   "outputs": [],
   "source": [
    "# imports\n",
    "import pandas as pd\n",
    "import numpy as np\n",
    "import matplotlib.pyplot as plt\n",
    "import seaborn as sns\n",
    "from scipy import stats\n",
    "sns.set()\n",
    "\n",
    "\n",
    "# turn off warnings\n",
    "import warnings\n",
    "warnings.filterwarnings('ignore')\n",
    "\n",
    "# read data\n",
    "events_df = pd.read_csv(\"GB_events.csv\")\n",
    "venues_df = pd.read_csv(\"ldn_venues.csv\")"
   ]
  },
  {
   "cell_type": "markdown",
   "metadata": {},
   "source": [
    "# Data Exploration\n",
    "Taking a first quick look at the events-table.\n",
    "\n",
    "There are almost 3 milion log-events from 91.957 sessions.\n",
    "Within one session, there can be multiple bookings (every event with the page-type-category *Confirmed* is considered as a new booking if the previous page-type-category was different). Therefore it won't make sense to measure the conversion rate using the sessions, instead the number of successfull bookings shall be used."
   ]
  },
  {
   "cell_type": "code",
   "execution_count": 109,
   "metadata": {},
   "outputs": [
    {
     "name": "stdout",
     "output_type": "stream",
     "text": [
      "# events: 2968899\n",
      "\n",
      "# sessions: 91957\n",
      "\n",
      "Index(['Unnamed: 0', 'X', 'session_id', 'collector_time', 'event',\n",
      "       'filtered_top_rated', 'page_type_category', 'venue_id'],\n",
      "      dtype='object')\n",
      "                             session_id  confirmation_counts\n",
      "1720   178d9bce60af484258b14f17937d85a4                   14\n",
      "5247   45b279428c6ab3c088cc3f65711dd7e5                   14\n",
      "15564  cf41e88ff397313428ebb23e47b16d08                   13\n"
     ]
    },
    {
     "data": {
      "text/plain": [
       "<matplotlib.axes._subplots.AxesSubplot at 0x7f2013219198>"
      ]
     },
     "execution_count": 109,
     "metadata": {},
     "output_type": "execute_result"
    },
    {
     "data": {
      "image/png": "[encoded data removed]",
      "text/plain": [
       "<Figure size 432x288 with 1 Axes>"
      ]
     },
     "metadata": {},
     "output_type": "display_data"
    }
   ],
   "source": [
    "print(\"# events: %s\" % len(events_df) + \"\\n\")\n",
    "print(\"# sessions: %s\" % len(events_df.groupby(\"session_id\").count()) + \"\\n\")\n",
    "print(events_df.columns)\n",
    "\n",
    "# are there multiple bookings/confirmations per session?\n",
    "conf_df = events_df[(events_df['page_type_category'] == 'Confirmed') & (events_df['event'] == 'page_view')][['page_type_category', 'session_id']] \\\n",
    "    .groupby(\"session_id\", as_index=False) \\\n",
    "    .count() \\\n",
    "    .rename(columns={'page_type_category': 'confirmation_counts'})\n",
    "print(conf_df.sort_values('confirmation_counts', ascending=False).head(3))\n",
    "    \n",
    "conf_df = conf_df.groupby(\"confirmation_counts\", as_index=False).count().rename(columns={'session_id': 'session_counts'})\n",
    "\n",
    "conf_df.plot.bar(x='confirmation_counts', y='session_counts')"
   ]
  },
  {
   "cell_type": "markdown",
   "metadata": {},
   "source": [
    "Check of the venue-table.\n",
    "\n",
    "One can see that only 982 venues are included, while there are 8.426 distinct venue-ids in the event-table."
   ]
  },
  {
   "cell_type": "code",
   "execution_count": 3,
   "metadata": {},
   "outputs": [
    {
     "name": "stdout",
     "output_type": "stream",
     "text": [
      "Number of distinct venues in venues-table: 982\n",
      "Number of top-rated venues in venues-table: 60 (0.06109979633401222)\n",
      "Number of distinct venue ids in events-table: 8426\n",
      "7541\n",
      "Only 0.11654403038215048 of all venues available\n"
     ]
    }
   ],
   "source": [
    "print(\"Number of distinct venues in venues-table: \" + str(len(set(venues_df['venue_id']))))\n",
    "top_rated = venues_df[venues_df['top_rated_info'] == \"Top rated\"]\n",
    "print(\"Number of top-rated venues in venues-table: %s (%s)\" % (len(top_rated), (len(top_rated)/len(venues_df))))\n",
    "\n",
    "event_venues = set(events_df['venue_id'])\n",
    "print(\"Number of distinct venue ids in events-table: \" + str(len(event_venues)))\n",
    "venues = set(venues_df['venue_id'])\n",
    "diff_venue_ids = list(event_venues - venues)\n",
    "print(len(diff_venue_ids))\n",
    "print(\"Only %s of all venues available\" % (len(venues)/len(event_venues)))"
   ]
  },
  {
   "cell_type": "markdown",
   "metadata": {},
   "source": [
    "# Data Preparation\n",
    "In order to check whether the conversion rate increased with the new feature, a booking table has to be generated.\n",
    "\n",
    "In this notebook, a booking is defined as the cycle from the session start to the first confirmation-event. If there is no confirmation (user did not book), the booking ends with the session end. If there are multiple bookings within a session, the a booking ends with the confirmation and the next booking starts with the next event. \n",
    "\n",
    "First, I will check for missing values and do some transformations on the data.\n",
    "## Transformations"
   ]
  },
  {
   "cell_type": "code",
   "execution_count": 4,
   "metadata": {},
   "outputs": [
    {
     "name": "stdout",
     "output_type": "stream",
     "text": [
      "           Unnamed: 0  venue_id  purchasable_date  churn_date  top_rated_info\n",
      "top_rated                                                                    \n",
      "False             922       922               922         132               0\n",
      "True               60        60                60           2              60\n"
     ]
    }
   ],
   "source": [
    "events_df['filtered_top_rated'] = (events_df['filtered_top_rated'] == 'y')\n",
    "\n",
    "# replace top_rated_info by boolean field\n",
    "venues_df['top_rated'] = venues_df['top_rated_info'].apply(lambda x: True if x == \"Top rated\" else False)\n",
    "venues_df2 = venues_df.drop('top_rated_info', axis=1)\n",
    "print(venues_df.groupby('top_rated').count())"
   ]
  },
  {
   "cell_type": "markdown",
   "metadata": {},
   "source": [
    "## Check missing values\n",
    "In the event-table, the only the venue-id has missing values since this data is only recorded for a few steps in the order process. The missing values will be filled once the booking table is ready.\n",
    "\n",
    "In the venue table, only the churn_data-column has missing values (if the venue did not leave the platform, there is no data in the table). This will be ignored since the feature will not be used in the next steps."
   ]
  },
  {
   "cell_type": "code",
   "execution_count": 5,
   "metadata": {},
   "outputs": [
    {
     "name": "stdout",
     "output_type": "stream",
     "text": [
      "Unnamed: 0: 100.0%\n",
      "X: 100.0%\n",
      "session_id: 100.0%\n",
      "collector_time: 100.0%\n",
      "event: 100.0%\n",
      "filtered_top_rated: 100.0%\n",
      "page_type_category: 100.0%\n",
      "venue_id: 49.13336560118751%\n",
      "\n",
      "Unnamed: 0: 100.0%\n",
      "venue_id: 100.0%\n",
      "purchasable_date: 100.0%\n",
      "churn_date: 13.64562118126273%\n",
      "top_rated: 100.0%\n"
     ]
    }
   ],
   "source": [
    "events_cnt = len(events_df)\n",
    "for column in events_df.columns:\n",
    "    print(column + \": \" + str(len(events_df.dropna(axis=0, subset=[column]))/events_cnt *100) + \"%\")\n",
    "print(\"\")\n",
    "\n",
    "venues_cnt = len(venues_df2)\n",
    "for column in venues_df2.columns:\n",
    "    print(column + \": \" + str(len(venues_df2.dropna(axis=0, subset=[column]))/venues_cnt *100) + \"%\")\n"
   ]
  },
  {
   "cell_type": "markdown",
   "metadata": {},
   "source": [
    "## Create bookingcycle-table\n",
    "The data is ready to create the booking table.\n",
    "\n",
    "A new cycle starts with a new session or after a previous booking within the same session and ends when a user reaches the confirmation page or when the session ends.\n",
    "\n",
    "The table will have the follwing schema:\n",
    "- ID: sessionid + starttime\n",
    "- Starttime\n",
    "- Endtime\n",
    "- Successful (ended with confirmation) [bool]\n",
    "- ratings available [bool]\n",
    "- Time to confirmation in seconds [int]\n",
    "- Time to last time-selection in seconds [int] -> search time\n",
    "\n",
    "To find the starts and ends of a cycle, each potential start (session start or event after confirmation) and end (session end or confirmation) will be labeled accordingly."
   ]
  },
  {
   "cell_type": "code",
   "execution_count": 6,
   "metadata": {},
   "outputs": [],
   "source": [
    "# add some additional columns as preparation for the labeling\n",
    "session_ids = set(events_df['session_id'])\n",
    "booking_cycles = pd.DataFrame()\n",
    "session_starts = events_df.groupby('session_id')['X'].min()\n",
    "session_ends = events_df.groupby('session_id')['X'].max()\n",
    "\n",
    "events_df['prev_page_type'] = events_df.groupby('session_id')['page_type_category'].shift(1)\n",
    "events_df['next_page_type'] = events_df.groupby('session_id')['page_type_category'].shift(-1)\n",
    "\n",
    "\n",
    "def label_event(category, prev_category, next_category):\n",
    "    \"\"\"\n",
    "    Labels an event as start or end of a booking cycle if applicable.\n",
    "    \"\"\"\n",
    "    if(category == 'Confirmed'):\n",
    "        return 'confirmation_end'\n",
    "    elif((prev_category == 'Confirmed') & (category != 'Confirmed')):\n",
    "        return 'booking_start'\n",
    "    elif(pd.isna(prev_category)):\n",
    "        return 'booking_start'\n",
    "    elif(pd.isna(next_category)):\n",
    "        return 'booking_end'\n",
    "    else:\n",
    "        return \"\"\n",
    "\n",
    "# label every event\n",
    "events_df['label'] = events_df \\\n",
    "    .apply(lambda x: label_event(x['page_type_category'], x['prev_page_type'], x['next_page_type']), axis=1)"
   ]
  },
  {
   "cell_type": "markdown",
   "metadata": {},
   "source": [
    "The cycles are created by taking every start-event together with their next end-event. After that, some additional columns are added:\n",
    "* Start_time: Time of the start-event\n",
    "* End_time: Time of the end-event\n",
    "* Start_ID: Id of the start-event\n",
    "* Cycle_time_seconds: Seconds between start and end time\n",
    "* Cycle_ID: String created by concatenating session_id and start time\n",
    "* Confirmed: True if the cycle ended with a confirmation\n",
    "* Feature_available: Indicates whether the new feature is available or not (true for every cycle that starts after midnight on the 4th of October 2017)"
   ]
  },
  {
   "cell_type": "code",
   "execution_count": 7,
   "metadata": {},
   "outputs": [],
   "source": [
    "# create booking cycle table\n",
    "booking_events = events_df[events_df['label'] != \"\"] \n",
    "booking_events[['end_id', 'next_time', 'next_label']] = \\\n",
    "    booking_events.groupby('session_id')[['X', 'collector_time', 'label']].shift(-1)\n",
    "\n",
    "booking_cycles = booking_events[(booking_events['label'] == 'booking_start') & \\\n",
    "                                ((booking_events['next_label'] == 'booking_end') | \\\n",
    "                                 (booking_events['next_label'] == 'confirmation_end'))]\n",
    "\n",
    "booking_cycles['start_time'] = pd.to_datetime(booking_cycles['collector_time'])\n",
    "booking_cycles['end_time'] = pd.to_datetime(booking_cycles['next_time'])\n",
    "booking_cycles['start_id'] = booking_cycles['X']\n",
    "booking_cycles['cycle_time_seconds'] = (booking_cycles['end_time'] - booking_cycles['start_time']).dt.total_seconds()\n",
    "booking_cycles['confirmed'] = booking_cycles['next_label'] == 'confirmation_end'\n",
    "booking_cycles['cycle_id'] = booking_cycles['session_id'] + str(booking_cycles['start_time'])\n",
    "\n",
    "# add column that indicates whether the new top rated-feature was available\n",
    "booking_cycles['feature_available'] = booking_cycles['start_time'] >= \"2017-10-04 00:00:00\"\n",
    "\n",
    "# remove redundant columns\n",
    "booking_cycles = booking_cycles[['cycle_id', 'session_id', 'start_time', 'end_time', 'cycle_time_seconds', \\\n",
    "                                 'confirmed', 'feature_available', 'start_id', 'end_id']]"
   ]
  },
  {
   "cell_type": "code",
   "execution_count": 8,
   "metadata": {},
   "outputs": [
    {
     "data": {
      "text/plain": [
       "'testing the results on a session with multiple bookings\\nassert(len(booking_cycles[booking_cycles[\\'cycle_time_seconds\\'] < 0]) == 0)\\nprint((booking_cycles[booking_cycles[\\'session_id\\'] == \\'72d226e3488091bbcc5381466400dc0b\\']       [[\\'start_time\\', \\'end_time\\', \\'start_id\\', \\'end_id\\', \\'confirmed\\']]))\\nprint(\"\")\\nfor i, row in (events_df[(events_df[\\'session_id\\'] == \\'72d226e3488091bbcc5381466400dc0b\\')]      [[\\'collector_time\\', \\'X\\', \\'page_type_category\\']]).iterrows():\\n    print(row[[\\'page_type_category\\', \\'collector_time\\', \\'X\\']])'"
      ]
     },
     "execution_count": 8,
     "metadata": {},
     "output_type": "execute_result"
    }
   ],
   "source": [
    "\"\"\"testing the results on a session with multiple bookings\n",
    "assert(len(booking_cycles[booking_cycles['cycle_time_seconds'] < 0]) == 0)\n",
    "print((booking_cycles[booking_cycles['session_id'] == '72d226e3488091bbcc5381466400dc0b']\\\n",
    "       [['start_time', 'end_time', 'start_id', 'end_id', 'confirmed']]))\n",
    "print(\"\")\n",
    "for i, row in (events_df[(events_df['session_id'] == '72d226e3488091bbcc5381466400dc0b')]\\\n",
    "      [['collector_time', 'X', 'page_type_category']]).iterrows():\n",
    "    print(row[['page_type_category', 'collector_time', 'X']])\"\"\""
   ]
  },
  {
   "cell_type": "markdown",
   "metadata": {},
   "source": [
    "### Additional features:\n",
    "* last_venue_viewed: Which venue did the user choose if he placed an order?\n",
    "* venue_top_rated: Was the venue among the higher ranked venues?\n",
    "* search_time: Time from the start of the booking to the last time-selection event"
   ]
  },
  {
   "cell_type": "code",
   "execution_count": 9,
   "metadata": {},
   "outputs": [],
   "source": [
    "# for every booking that ended with a confirmation, get the latest time-selection event\n",
    "time_selection_df = events_df[events_df['page_type_category'] == 'Time-selection Page']\\\n",
    "    [['X', 'page_type_category', 'session_id', 'venue_id', 'collector_time']]\n",
    "bookings_with_times = booking_cycles.merge(time_selection_df, on='session_id', how='left')\n",
    "\n",
    "def check_time(idx, start_idx, end_idx):\n",
    "    if pd.isna(idx):\n",
    "        return None\n",
    "    elif((end_idx >= idx) & (start_idx <= idx)):\n",
    "        return idx\n",
    "    else:\n",
    "        return None\n",
    "    \n",
    "# bookings_with_times['relevant_time'] = (bookings_with_times['end_id'] >= bookings_with_times['X']) & \\\n",
    "#                                        (bookings_with_times['start_id'] <= bookings_with_times['X']) \n",
    "bookings_with_times['X'] = bookings_with_times.apply(lambda x: check_time(x['X'], x['start_id'], x['end_id']), axis=1)\n",
    "\n",
    "bookings_with_times = bookings_with_times.groupby(list(booking_cycles.columns), as_index=False).max() \n",
    "\n",
    "# extract venue id of the latest venue viewed\n",
    "bookings_with_venues = bookings_with_times.merge(time_selection_df, on='X', how='left')\\\n",
    "                        [['cycle_id', 'session_id_x', 'start_time', 'end_time', \\\n",
    "                        'cycle_time_seconds', 'confirmed', 'feature_available', \\\n",
    "                        'start_id', 'end_id', 'venue_id_y', 'collector_time_y']] \\\n",
    "                        .rename(columns={'venue_id_y': 'venue_id', 'session_id_x': 'session_id', \\\n",
    "                                         'collector_time_y': 'time_selector_time'})\n",
    "        \n",
    "venues_small = venues_df[['venue_id', 'top_rated']]\n",
    "\n",
    "# add column that shows whether the viewed venue is top rated\n",
    "bookings_with_venues = bookings_with_venues.merge(venues_small, on='venue_id', how='left')\\\n",
    "    .rename(columns={'venue_id': 'last_venue_viewed', 'top_rated': 'venue_top_rated'})\n",
    "        \n",
    "# add search time column (= time between start and last time selection)\n",
    "bookings_with_venues['time_selector_time'] = pd.to_datetime(bookings_with_venues['time_selector_time'])\n",
    "bookings_with_venues['search_time'] = (bookings_with_venues['time_selector_time'] - bookings_with_venues['start_time'])\\\n",
    "    .dt.total_seconds()\n",
    "bookings_with_venues['search_time'] = bookings_with_venues\\\n",
    "    .apply(lambda x: x['search_time'] if pd.notna(x['search_time']) else x['cycle_time_seconds'], axis=1)\n",
    "\n",
    "assert(len(bookings_with_venues) == len(booking_cycles))\n",
    "assert(len(bookings_with_venues[bookings_with_venues['search_time'] < 0]) == 0)"
   ]
  },
  {
   "cell_type": "code",
   "execution_count": 10,
   "metadata": {},
   "outputs": [
    {
     "name": "stdout",
     "output_type": "stream",
     "text": [
      "97010\n",
      "Number of cycles with top-rated filtering: 1545\n"
     ]
    }
   ],
   "source": [
    "# add column that shows whether the user used the top-rated filter\n",
    "top_rated_events = events_df[events_df['filtered_top_rated'] == True][['session_id', 'X']]\n",
    "\"\"\"\n",
    "k = events_df\n",
    "k['time'] = pd.to_datetime(k['collector_time'])\n",
    "print(k[(k['filtered_top_rated'] == True) & (k['time'] <= pd.to_datetime(\"2017-10-04 00:00:00\"))].sort_values('time'))\n",
    "\"\"\"\n",
    "\n",
    "bookings_with_top_rated = bookings_with_venues.merge(top_rated_events, on='session_id', how='left')\n",
    "bookings_with_top_rated['rated_time_ok'] = bookings_with_top_rated \\\n",
    "    .apply(lambda x: check_time(x['X'], x['start_id'], x['end_id']), axis=1)\n",
    "bookings_with_top_rated = bookings_with_top_rated[pd.notna(bookings_with_top_rated['rated_time_ok'])] \\\n",
    "    .groupby('cycle_id', as_index=False).count()\n",
    "bookings_with_top_rated = bookings_with_top_rated[['cycle_id', 'rated_time_ok']]\n",
    "# print((bookings_with_top_rated.groupby('cycle_id', as_index=False)['rated_time_ok'].head(2)))\n",
    "\n",
    "cols = list(bookings_with_venues.columns)\n",
    "bookings = bookings_with_top_rated.merge(bookings_with_venues, on='cycle_id', how='right')\n",
    "bookings['filtered_top_ratings'] = pd.notnull(bookings['rated_time_ok'])\n",
    "new_cols = cols + ['filtered_top_ratings']\n",
    "bookings = bookings[new_cols]\n",
    "\n",
    "assert(len(bookings) == len(bookings_with_venues))\n",
    "\n",
    "# test: filter use may only occure after release\n",
    "# assert(len(bookings[(bookings['filtered_top_ratings'] == True) & \\\n",
    "#                     (bookings['start_time'] < pd.to_datetime('2017-10-04 00:00:00'))]) == 0)\n",
    "\n",
    "print(len(bookings))\n",
    "assert(len(bookings) == len(booking_cycles))\n",
    "\n",
    "print(\"Number of cycles with top-rated filtering: \" + str(len(bookings[bookings['filtered_top_ratings'] == True])))"
   ]
  },
  {
   "cell_type": "markdown",
   "metadata": {},
   "source": [
    "Since the filtering for top-rated venues does not seem to be so popular, I decided to create a plot where one can see how the usage of this feature developed. Obviously, most users did not find the feature so interesting.\n",
    "\n",
    "Another thing that becomes visible here is that the majority of bookings is done during the week, while there are some dips on the weekends."
   ]
  },
  {
   "cell_type": "code",
   "execution_count": 110,
   "metadata": {},
   "outputs": [
    {
     "data": {
      "text/plain": [
       "<matplotlib.axes._subplots.AxesSubplot at 0x7f2017a92390>"
      ]
     },
     "execution_count": 110,
     "metadata": {},
     "output_type": "execute_result"
    },
    {
     "data": {
      "image/png": "[encoded data removed]",
      "text/plain": [
       "<Figure size 720x432 with 1 Axes>"
      ]
     },
     "metadata": {},
     "output_type": "display_data"
    }
   ],
   "source": [
    "bookings['date'] = bookings['start_time'].dt.strftime('%m/%d/%Y')\n",
    "fig, ax = plt.subplots(figsize=(10,6))\n",
    "bookings[['date', 'filtered_top_ratings', 'cycle_id']].groupby(['date', 'filtered_top_ratings']).count().unstack().plot(ax=ax)"
   ]
  },
  {
   "cell_type": "code",
   "execution_count": 136,
   "metadata": {},
   "outputs": [
    {
     "name": "stdout",
     "output_type": "stream",
     "text": [
      "   hour  cycle_id\n",
      "0    00       670\n",
      "1    01       396\n",
      "2    02       227\n",
      "3    03       169\n",
      "4    04       144\n",
      "5    05       306\n",
      "6    06       746\n",
      "7    07      2046\n",
      "8    08      5286\n",
      "9    09      7895\n",
      "10   10      9038\n",
      "11   11      8287\n",
      "12   12      8198\n",
      "13   13      7886\n",
      "14   14      7687\n",
      "15   15      7429\n",
      "16   16      5653\n",
      "17   17      3985\n",
      "18   18      3493\n",
      "19   19      3997\n",
      "20   20      4521\n",
      "21   21      4302\n",
      "22   22      3018\n",
      "23   23      1631\n"
     ]
    },
    {
     "data": {
      "text/plain": [
       "[Text(0,0,'00'),\n",
       " Text(0,0,'01'),\n",
       " Text(0,0,'02'),\n",
       " Text(0,0,'03'),\n",
       " Text(0,0,'04'),\n",
       " Text(0,0,'05'),\n",
       " Text(0,0,'06')]"
      ]
     },
     "execution_count": 136,
     "metadata": {},
     "output_type": "execute_result"
    },
    {
     "data": {
      "image/png": "[encoded data removed]",
      "text/plain": [
       "<Figure size 720x432 with 1 Axes>"
      ]
     },
     "metadata": {},
     "output_type": "display_data"
    }
   ],
   "source": [
    "bookings['hour'] = bookings['start_time'].dt.strftime('%H')\n",
    "hour_count = bookings[['hour', 'cycle_id']].groupby('hour').count().reset_index()[['hour', 'cycle_id']]\n",
    "print(hour_count)\n",
    "fig, ax = plt.subplots(figsize=(10,6))\n",
    "ax.get_xaxis().get_major_formatter().set_useOffset(False)\n",
    "#bookings[['hour', 'cycle_id']].groupby('hour').count().plot(ax=ax)\n",
    "hour_count.plot(x='hour', y='cycle_id', ax=ax)\n",
    "ax.set_xticklabels(list(hour_count['hour']))"
   ]
  },
  {
   "cell_type": "markdown",
   "metadata": {},
   "source": [
    "# Hypothesis Testing I\n",
    "Question to be answered: *Does the new feature increase the probability of a completed booking?*\n",
    "\n",
    "Metric: Number of completed bookings/Number of bookingcycles started\n",
    "\n",
    "*H0: p_test - p_control >= 0* &rarr; difference between confirmation probability is equal or lower to zero.\n",
    "\n",
    "*H1: p_test - p_control < 0* &rarr; difference between confirmation probability is greater than zero."
   ]
  },
  {
   "cell_type": "markdown",
   "metadata": {},
   "source": [
    "## Graphical Analysis\n",
    "The graphic below shows that the total number of booking cycles almost doubled. It seems like also the conversion rate increased after the introduction of the new feature.\n",
    "\n",
    "In the next step, I will use a hypothesis test to test whether there is a significant increase in the conversion rate after the introduction of the new feature."
   ]
  },
  {
   "cell_type": "code",
   "execution_count": 12,
   "metadata": {
    "scrolled": true
   },
   "outputs": [
    {
     "data": {
      "image/png": "[encoded data removed]",
      "text/plain": [
       "<Figure size 720x432 with 1 Axes>"
      ]
     },
     "metadata": {},
     "output_type": "display_data"
    }
   ],
   "source": [
    "plot_cycles = booking_cycles\n",
    "plot_cycles['confirmed_x'] = plot_cycles.apply(lambda x: 'confirmed' if x['confirmed'] else 'not confirmed', axis=1)\n",
    "plot_cycles['new_feature'] = plot_cycles.apply(lambda x: 'available' if x['feature_available'] == True else 'not available', axis=1)\n",
    "\n",
    "fig, ax = plt.subplots(figsize=(10,6))\n",
    "plot_cycles.groupby(['feature_available', 'confirmed']).size().unstack().plot(kind='bar', stacked=True, ax=ax)\n",
    "ax.set_xlabel('New feature')\n",
    "ax.set_ylabel('Number of bookingcycles')\n",
    "ax.set_title(\"Rate of confirmed Bookings before and after the new feature\")\n",
    "ax.tick_params(axis='x', rotation=45)\n",
    "plt.tight_layout()"
   ]
  },
  {
   "cell_type": "markdown",
   "metadata": {},
   "source": [
    "## Hypothesis Test 1: Step 1 - Calculate confirmation probabilities\n",
    "\n",
    "The total number of booking cycles increased from 33.140 to 63.870. Also the probability for a confirmed booking (conversion rate) increased from 19.99% to 21.85%.\n",
    "\n",
    "In the next step, these results will be used for an hypothesis test."
   ]
  },
  {
   "cell_type": "code",
   "execution_count": 13,
   "metadata": {},
   "outputs": [
    {
     "name": "stdout",
     "output_type": "stream",
     "text": [
      "Probability for confirmation in control: 0.1999094749547375\n",
      "Probability for confirmation in test: 0.2184906842022859\n",
      "\n",
      "n_ctrl: 33140\n",
      "n_test: 63870\n",
      "Differences in probability: 0.018581209247548414\n"
     ]
    }
   ],
   "source": [
    "control_df = booking_cycles[booking_cycles['start_time'] < \"2017-10-04 00:00:00\"]\n",
    "test_df = booking_cycles[booking_cycles['start_time'] >= \"2017-10-04 00:00:00\"]\n",
    "conf_cntrl = control_df[control_df['confirmed'] == True]\n",
    "conf_test = test_df[test_df['confirmed'] == True]\n",
    "p_cntrl = len(conf_cntrl)/len(control_df)\n",
    "p_test = len(conf_test)/len(test_df)\n",
    "print(\"Probability for confirmation in control: \" + str(p_cntrl))\n",
    "print(\"Probability for confirmation in test: \" + str(p_test) + \"\\n\")\n",
    "\n",
    "print(\"n_ctrl: \" + str(len(control_df)))\n",
    "print(\"n_test: \" + str(len(test_df)))\n",
    "\n",
    "print(\"Differences in probability: \" + str(p_test - p_cntrl))\n",
    "\n",
    "nconf_cntrl = control_df[control_df['confirmed'] == False]\n",
    "nconf_test = test_df[test_df['confirmed'] == False]"
   ]
  },
  {
   "cell_type": "markdown",
   "metadata": {},
   "source": [
    "\n",
    "## Hypothesis Test 1: Step 2 - Check statistical significance\n",
    "\n",
    "Using the statistics of the two populations, a one-sided hypthesis is executed to validate the statistical significance of the difference in the conversion rate.\n",
    "\n",
    "With a level of significance of 95%, the null-hypothesis (conversion rate in test set >= conversion rate on control set) can be rejected. Therefore, there seems to be a significant increase in the conversion rate after the introduction of the new feature."
   ]
  },
  {
   "cell_type": "code",
   "execution_count": 14,
   "metadata": {},
   "outputs": [
    {
     "name": "stdout",
     "output_type": "stream",
     "text": [
      "True\n"
     ]
    }
   ],
   "source": [
    "# z-value for 95% (one-sided) = 1.65.\n",
    "z_value = 1.65\n",
    "\n",
    "diff_e = p_test - p_cntrl\n",
    "\n",
    "se_cntrl = control_df['confirmed'].sem()\n",
    "se_test = test_df['confirmed'].sem()\n",
    "\n",
    "# pooled standard error:\n",
    "se_pool = (se_cntrl**2 + se_test**2)**(1/2)\n",
    "\n",
    "# margin error:\n",
    "margin_error = se_pool * z_value\n",
    "\n",
    "# check significance. H0 can be rejected since estimated difference greater than margin error.\n",
    "print(diff_e > margin_error)"
   ]
  },
  {
   "cell_type": "markdown",
   "metadata": {},
   "source": [
    "# Hypothesis Testing II\n",
    "Question to be answered: *Does the new feature decrease the search time?*\n",
    "\n",
    "Metric: Search time per successfull booking\n",
    "\n",
    "*H0: dur_test - dur_cntrl <= 0* &rarr; difference between search times is equal or lower to zero.\n",
    "\n",
    "*H1: dur_test - dur_cntrl > 0* &rarr; difference between search times is greater than zero.\n",
    "\n",
    "Only successfull bookings will be considered here.\n",
    "\n",
    "## Graphical analysis\n",
    "After removing the outliers, there seems to be a slight tendency that the new feature helped decreasing the mean search time. This must be confirmed using a Welch test."
   ]
  },
  {
   "cell_type": "code",
   "execution_count": 15,
   "metadata": {},
   "outputs": [
    {
     "data": {
      "text/plain": [
       "<matplotlib.legend.Legend at 0x7f20100f3630>"
      ]
     },
     "execution_count": 15,
     "metadata": {},
     "output_type": "execute_result"
    },
    {
     "data": {
      "image/png": "[encoded data removed]",
      "text/plain": [
       "<Figure size 720x432 with 1 Axes>"
      ]
     },
     "metadata": {},
     "output_type": "display_data"
    }
   ],
   "source": [
    "fig, ax = plt.subplots(figsize=(10,6))\n",
    "labels = list()\n",
    "search_times = bookings[bookings['confirmed'] == True]\n",
    "q = search_times['search_time'].quantile(0.98)\n",
    "search_times = search_times[search_times['search_time'] < q]\n",
    "\n",
    "for label, df in search_times[['feature_available', 'search_time']].groupby('feature_available'):\n",
    "    if(label):\n",
    "        l = \"With new Feature\"\n",
    "    else:\n",
    "        l = \"Before new Feature\" \n",
    "    df['search_time'].plot(kind=\"kde\", ax=ax, label=l)\n",
    "    \n",
    "ax.set_xlabel('Search Time in Seconds')\n",
    "ax.set_title(\"Density of search time before and after the neew feature\")\n",
    "plt.legend()"
   ]
  },
  {
   "cell_type": "markdown",
   "metadata": {},
   "source": [
    "### Step 1 - Calculate duration distributions\n",
    "Assumption: Search time is normally distributed."
   ]
  },
  {
   "cell_type": "code",
   "execution_count": 16,
   "metadata": {},
   "outputs": [
    {
     "name": "stdout",
     "output_type": "stream",
     "text": [
      "Mean duration control: 1111.5027924528301\n",
      "Mean duration test: 674.7414546757435\n",
      "\n",
      "n_ctrl: 33140\n",
      "n_test: 63870\n"
     ]
    }
   ],
   "source": [
    "success_bookings = bookings[bookings['confirmed'] == True]\n",
    "control_df2 = success_bookings[success_bookings['start_time'] < \"2017-10-04 00:00:00\"]\n",
    "test_df2 = success_bookings[success_bookings['start_time'] >= \"2017-10-04 00:00:00\"]\n",
    "cntrl_mdur = control_df2['search_time'].mean()\n",
    "test_mdur = test_df2['search_time'].mean()\n",
    "print(\"Mean duration control: \" + str(cntrl_mdur))\n",
    "print(\"Mean duration test: \" + str(test_mdur) + \"\\n\")\n",
    "\n",
    "print(\"n_ctrl: \" + str(len(control_df)))\n",
    "print(\"n_test: \" + str(len(test_df)))"
   ]
  },
  {
   "cell_type": "markdown",
   "metadata": {},
   "source": [
    "### Step 2 - Check statistical significance\n",
    "A one-sided Welch-test is used to check H0. I chose the Welch-test here since the test does not require equal variances within the populations.\n",
    "\n",
    "The H0 (search time with new feature >= search time without new feature) can be rejected."
   ]
  },
  {
   "cell_type": "code",
   "execution_count": 17,
   "metadata": {},
   "outputs": [
    {
     "name": "stdout",
     "output_type": "stream",
     "text": [
      "t-statistics: -1.9135406664910044\n",
      "p-value: 0.027859601606500587\n",
      "True\n"
     ]
    }
   ],
   "source": [
    "# perform Welch-test\n",
    "t, p = stats.ttest_ind(test_df2['search_time'], control_df2['search_time'], equal_var=False)\n",
    "\n",
    "# since this is the result of a two-sided test, p has to be divided by 2\n",
    "p = p/2\n",
    "print(\"t-statistics: \" + str(t))\n",
    "print(\"p-value: \" + str(p))\n",
    "\n",
    "print(p < 0.05)"
   ]
  },
  {
   "cell_type": "markdown",
   "metadata": {},
   "source": [
    "# Hypothesis Testing III\n",
    "Question to be answered: *Does the new feature increase the probability of a booking for a top-rated venues?*\n",
    "\n",
    "Metric: Number of completed bookings/Number of bookingcycles started\n",
    "Limitation: Only information for a small number of venues available.\n",
    "\n",
    "*H0: p_test - p_control >= 0* &rarr; difference between top-rated booking probability is equal or lower to zero.\n",
    "\n",
    "*H1: p_test - p_control < 0* &rarr; difference between top-rated booking probability is greater than zero.\n",
    "\n",
    "## Graphical analysis\n",
    "\n",
    "Like in the analysis of the conversion rate, one can see a clear rise in the number of total bookings. But also the ratio of bookings in top-rated venues seems to be larger.\n",
    "\n",
    "In the next step, this difference will be tested with an one-sided hypothesis test."
   ]
  },
  {
   "cell_type": "code",
   "execution_count": 18,
   "metadata": {},
   "outputs": [
    {
     "name": "stdout",
     "output_type": "stream",
     "text": [
      "2699\n",
      "Number of bookings for known venues: 2699\n"
     ]
    },
    {
     "data": {
      "image/png": "[encoded data removed]",
      "text/plain": [
       "<Figure size 720x432 with 1 Axes>"
      ]
     },
     "metadata": {},
     "output_type": "display_data"
    }
   ],
   "source": [
    "success_bookings = bookings[bookings['confirmed'] == True]\n",
    "venue_bookings = success_bookings[pd.notnull(success_bookings['venue_top_rated'])]\n",
    "print(len(venue_bookings))\n",
    "print(\"Number of bookings for known venues: \" + str(len(venue_bookings)))\n",
    "fig, ax = plt.subplots(figsize=(10,6))\n",
    "venue_bookings.groupby(['feature_available', 'venue_top_rated']).size().unstack().plot(kind='bar', stacked=True, ax=ax)\n",
    "ax.set_xlabel('New feature available')\n",
    "ax.set_ylabel('Number of confirmed bookings')\n",
    "ax.set_title('Rate of top-rated bookings before and after introduction of new feature')\n",
    "ax.tick_params(axis='x', rotation=45)\n",
    "plt.tight_layout()"
   ]
  },
  {
   "cell_type": "markdown",
   "metadata": {},
   "source": [
    "### Step 1 - Calculate booking probabilities\n",
    "\n",
    "Before the introduction of the top-rated feature, the probability of a booking in a top-rated venue was 32.77%. With the new feature, a probability of 38.15% could be observed. \n",
    "\n",
    "The next step is to validate whether this result is statistically relevant in order to make sure that this is not just a random effect."
   ]
  },
  {
   "cell_type": "code",
   "execution_count": 19,
   "metadata": {},
   "outputs": [
    {
     "name": "stdout",
     "output_type": "stream",
     "text": [
      "608\n",
      "322\n",
      "Probability for top-rated booking in control: 0.32776280323450135\n",
      "Probability for top-rated booking in test: 0.3815165876777251\n",
      "\n",
      "n_ctrl: 1855\n",
      "n_test: 844\n"
     ]
    }
   ],
   "source": [
    "control_df3 = venue_bookings[venue_bookings['feature_available'] == True]\n",
    "test_df3 = venue_bookings[venue_bookings['feature_available'] == False]\n",
    "topr_cntrl3 = control_df3[control_df3['venue_top_rated'] == True]\n",
    "print(len(topr_cntrl3))\n",
    "topr_test3 = test_df3[test_df3['venue_top_rated'] == True]\n",
    "print(len(topr_test3))\n",
    "p_cntrl3 = len(topr_cntrl3)/len(control_df3)\n",
    "p_test3 = len(topr_test3)/len(test_df3)\n",
    "print(\"Probability for top-rated booking in control: \" + str(p_cntrl3))\n",
    "print(\"Probability for top-rated booking in test: \" + str(p_test3) + \"\\n\")\n",
    "\n",
    "print(\"n_ctrl: \" + str(len(control_df3)))\n",
    "print(\"n_test: \" + str(len(test_df3)))"
   ]
  },
  {
   "cell_type": "markdown",
   "metadata": {},
   "source": [
    "### Step 2 - Check statistical significance\n",
    "\n",
    "The H0 (probability for top-rated booking in test set >= probability in control set) can be rejected. The new feature seems to be useful for the users, since the probability for a booking in one of these venues increased."
   ]
  },
  {
   "cell_type": "code",
   "execution_count": 20,
   "metadata": {},
   "outputs": [
    {
     "name": "stdout",
     "output_type": "stream",
     "text": [
      "0.032948388284755756\n",
      "True\n"
     ]
    }
   ],
   "source": [
    "# z-value for 95% (one-sided) = 1.65.\n",
    "z_value = 1.65\n",
    "\n",
    "diff_e3 = p_test3 - p_cntrl3\n",
    "\n",
    "se_cntrl3 = control_df3['venue_top_rated'].sem()\n",
    "se_test3 = test_df3['venue_top_rated'].sem()\n",
    "\n",
    "# pooled standard error:\n",
    "se_pool3 = (se_cntrl3**2 + se_test3**2)**(1/2)\n",
    "\n",
    "# margin error:\n",
    "margin_error3 = se_pool3 * z_value\n",
    "\n",
    "# check significance. H0 can be rejected since estimated difference greater than margin error.\n",
    "print(margin_error3)\n",
    "print(diff_e3 > margin_error3)"
   ]
  }
 ],
 "metadata": {
  "kernelspec": {
   "display_name": "Python 3",
   "language": "python",
   "name": "python3"
  },
  "language_info": {
   "codemirror_mode": {
    "name": "ipython",
    "version": 3
   },
   "file_extension": ".py",
   "mimetype": "text/x-python",
   "name": "python",
   "nbconvert_exporter": "python",
   "pygments_lexer": "ipython3",
   "version": "3.6.7"
  }
 },
 "nbformat": 4,
 "nbformat_minor": 2
}
